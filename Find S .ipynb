{
 "cells": [
  {
   "cell_type": "code",
   "execution_count": null,
   "metadata": {},
   "outputs": [],
   "source": [
    "import random\n",
    "import csv\n",
    "\n",
    "\n",
    "attributes = [['Sunny','Rainy'],\n",
    "              ['Warm','Cold'],\n",
    "              ['Normal','High'],\n",
    "              ['Strong','Weak'],\n",
    "              ['Warm','Cool'],\n",
    "              ['Same','Change']]\n",
    "\n",
    "\n",
    "num_attributes = len(attributes)\n",
    "\n",
    "\n",
    "print (\" \\n The most general hypothesis : ['?','?','?','?','?','?']\\n\")\n",
    "print (\"\\n The most specific hypothesis : ['0','0','0','0','0','0']\\n\")\n",
    "\n",
    "a = []\n",
    "print(\"\\n The Given Training Data Set \\n\")\n",
    "\n",
    "with open('C:\\\\Users\\\\Dr.Thyagaraju\\\\Desktop\\\\Data\\\\ws.csv', 'r') as csvFile:\n",
    "reader = csv.reader(csvFile)\n",
    "for row in reader:\n",
    "a.append (row)\n",
    "print(row)\n",
    "\n",
    "\n",
    "print(\"\\n The initial value of hypothesis: \")\n",
    "hypothesis = ['0'] * num_attributes\n",
    "print(hypothesis)\n",
    "\n",
    "# Comparing with First Training Example \n",
    "for j in range(0,num_attributes):\n",
    "hypothesis[j] = a[0][j];\n",
    "\n",
    "# Comparing with Remaining Training Examples of Given Data Set\n",
    "\n",
    "print(\"\\n Find S: Finding a Maximally Specific Hypothesis\\n\")\n",
    "\n",
    "for i in range(0,len(a)):\n",
    "    if a[i][num_attributes]=='Yes':\n",
    "    for j in range(0,num_attributes):\n",
    "if a[i][j]!=hypothesis[j]:\n",
    "     hypothesis[j]='?'\n",
    "                else :\n",
    "                    hypothesis[j]= a[i][j] \n",
    "    print(\" For Training Example No :{0} the hypothesis is \".format(i),hypothesis)\n",
    "                \n",
    "print(\"\\n The Maximally Specific Hypothesis for a given Training Examples :\\n\")\n",
    "print(hypothesis)"
   ]
  }
 ],
 "metadata": {
  "kernelspec": {
   "display_name": "Python 3",
   "language": "python",
   "name": "python3"
  },
  "language_info": {
   "codemirror_mode": {
    "name": "ipython",
    "version": 3
   },
   "file_extension": ".py",
   "mimetype": "text/x-python",
   "name": "python",
   "nbconvert_exporter": "python",
   "pygments_lexer": "ipython3",
   "version": "3.6.5"
  }
 },
 "nbformat": 4,
 "nbformat_minor": 2
}
